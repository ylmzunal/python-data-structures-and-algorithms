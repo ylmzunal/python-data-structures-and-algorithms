{
 "cells": [
  {
   "cell_type": "code",
   "execution_count": 9,
   "id": "425a5945-fe47-4cfa-bada-cf46058f5848",
   "metadata": {},
   "outputs": [],
   "source": [
    "import pandas as pd\n",
    "import numpy as np\n",
    "from sklearn.model_selection import train_test_split\n",
    "from sklearn.preprocessing import StandardScaler\n",
    "\n",
    "# Load data\n",
    "url = \"https://raw.githubusercontent.com/jbrownlee/Datasets/master/pima-indians-diabetes.data.csv\"\n",
    "columns = ['NumPregnancies', 'Glucose', 'BloodPressure', 'SkinThickness', 'Insulin', 'BMI', 'DiabetesPedigreeFunction', 'Age', 'Outcome']\n",
    "data = pd.read_csv(url, names=columns)\n",
    "\n",
    "# Separate features and target\n",
    "X = data.drop('Outcome', axis=1)\n",
    "y = data['Outcome'].values\n",
    "\n",
    "# Split the data\n",
    "X_train, X_test, y_train, y_test = train_test_split(X, y, test_size=0.2, random_state=42)\n",
    "\n",
    "# Standardize the data\n",
    "scaler = StandardScaler()\n",
    "X_train = scaler.fit_transform(X_train)\n",
    "X_test = scaler.transform(X_test)\n"
   ]
  },
  {
   "cell_type": "markdown",
   "id": "4ad9b428-fbec-4bd8-af27-eb995363e212",
   "metadata": {},
   "source": [
    "This imports two classes from my custom library (**lrxai**). LogisticRegression is the main model for performing logistic regression, and LogisticRegressionExplainability is used for explaining the predictions made by the logistic regression model, specifically by analyzing the feature importances."
   ]
  },
  {
   "cell_type": "code",
   "execution_count": 10,
   "id": "d82bf61a-9dd2-4750-803b-94281649470c",
   "metadata": {},
   "outputs": [],
   "source": [
    "from lrxai.logistic_regression import LogisticRegression\n",
    "from lrxai.explainability import LogisticRegressionExplainability"
   ]
  },
  {
   "cell_type": "markdown",
   "id": "ca4d2f4f-a6a8-483e-bbd3-dff742d3fcea",
   "metadata": {},
   "source": [
    "* **LogisticRegression(learning_rate=0.01, num_iterations=1000):** This initializes the '**LogisticRegression**' object with a learning rate of 0.01 and sets it to perform 1000 iterations of the training algorithm (gradient descent).\n",
    "* **model.fit(X_train, y_train):** This line trains the logistic regression model using the training data '**X_train**' (features) and '**y_train (labels)**, adjusting the model's weights based on the logistic regression algorithm."
   ]
  },
  {
   "cell_type": "code",
   "execution_count": 11,
   "id": "92896cea-33d2-489f-878c-66831d9b6808",
   "metadata": {},
   "outputs": [],
   "source": [
    "# Initialize and train the logistic regression model\n",
    "model = LogisticRegression(learning_rate=0.01, num_iterations=1000)\n",
    "model.fit(X_train, y_train)"
   ]
  },
  {
   "cell_type": "markdown",
   "id": "e1201e3e-d688-4fd0-8f97-03c099dbf599",
   "metadata": {},
   "source": [
    "* **model.predict(X_test):** After training, this line uses the trained model to predict the outcomes for the test dataset X_test. The *'predict'* method applies the logistic regression weights to the new data to estimate whether each instance belongs to the positive class (1) or the negative class (0)."
   ]
  },
  {
   "cell_type": "markdown",
   "id": "559568f0-bfeb-4832-a05a-25f6bd7ea058",
   "metadata": {},
   "source": [
    "* **np.mean(predictions == y_test):** This calculates the accuracy of the model by comparing the predicted labels (predictions) with the actual labels (y_test). \n",
    "* It computes the proportion of correct predictions by taking the mean of a boolean array where True (1) represents a correct prediction and False (0) an incorrect one.\n",
    "* **print(f\"Accuracy: {accuracy:.2f}\"):** This prints the accuracy of the model formatted to two decimal places."
   ]
  },
  {
   "cell_type": "code",
   "execution_count": 12,
   "id": "6a2074d9-2414-4aa5-96f3-980d5d3568f7",
   "metadata": {},
   "outputs": [
    {
     "name": "stdout",
     "output_type": "stream",
     "text": [
      "Accuracy: 0.73\n"
     ]
    }
   ],
   "source": [
    "# Predict on the test set\n",
    "predictions = model.predict(X_test)\n",
    "\n",
    "# Evaluate the model (simple accuracy)\n",
    "accuracy = np.mean(predictions == y_test)\n",
    "print(f\"Accuracy: {accuracy:.2f}\")\n",
    "\n",
    "\n"
   ]
  },
  {
   "cell_type": "markdown",
   "id": "b062e652-8717-4028-9f78-c115bd087ba4",
   "metadata": {},
   "source": [
    "* **LogisticRegressionExplainability(model):** This initializes the explainability tool with the trained logistic regression model.\n",
    "* **explain.feature_importance():** This method calculates the importance of each feature in the model. It typically evaluates how much each feature's weight contributes to the model's predictions.\n",
    "* **print(\"Feature Importances:\", importances):** This line prints out the calculated feature importances, which helps in understanding which features are most influential in predicting the outcome."
   ]
  },
  {
   "cell_type": "code",
   "execution_count": 13,
   "id": "fe11bd02-c9f4-4aff-9315-48eb352e2842",
   "metadata": {},
   "outputs": [
    {
     "name": "stdout",
     "output_type": "stream",
     "text": [
      "Feature Importances: [ 0.09608736  0.35162005 -0.04189399  0.00262948 -0.01219192  0.24369275\n",
      "  0.09218915  0.15969531]\n"
     ]
    }
   ],
   "source": [
    "# Explainability: Feature Importance\n",
    "explain = LogisticRegressionExplainability(model)\n",
    "importances = explain.feature_importance()\n",
    "print(\"Feature Importances:\", importances)"
   ]
  },
  {
   "cell_type": "code",
   "execution_count": null,
   "id": "2b1c99c9-5d86-46ea-a080-8fd8def9a26d",
   "metadata": {},
   "outputs": [],
   "source": []
  },
  {
   "cell_type": "code",
   "execution_count": null,
   "id": "b93beaf8-93c1-4b97-92d4-099af36a89b5",
   "metadata": {},
   "outputs": [],
   "source": []
  }
 ],
 "metadata": {
  "kernelspec": {
   "display_name": "Python 3 (ipykernel)",
   "language": "python",
   "name": "python3"
  },
  "language_info": {
   "codemirror_mode": {
    "name": "ipython",
    "version": 3
   },
   "file_extension": ".py",
   "mimetype": "text/x-python",
   "name": "python",
   "nbconvert_exporter": "python",
   "pygments_lexer": "ipython3",
   "version": "3.11.5"
  }
 },
 "nbformat": 4,
 "nbformat_minor": 5
}
